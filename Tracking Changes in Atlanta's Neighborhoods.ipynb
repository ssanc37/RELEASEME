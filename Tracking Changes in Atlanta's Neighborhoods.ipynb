{
    "cells": [
        {
            "cell_type": "markdown",
            "metadata": {
                "collapsed": true
            },
            "source": "### Applied Data Science Capstone by IBM/Coursera "
        },
        {
            "cell_type": "code",
            "execution_count": 9,
            "metadata": {},
            "outputs": [
                {
                    "data": {
                        "text/html": "<img src=\"https://pixabay.com/images/id-4829076/\" width=\"300\" height=\"300\"/>",
                        "text/plain": "<IPython.core.display.Image object>"
                    },
                    "execution_count": 9,
                    "metadata": {},
                    "output_type": "execute_result"
                }
            ],
            "source": "from IPython.display import Image\nfrom IPython.core.display import HTML \n\nImage(url= \"https://pixabay.com/images/id-4829076/\", width=300, height=300)"
        },
        {
            "cell_type": "markdown",
            "metadata": {},
            "source": "# Battle of the Neighborhoods: ATL EDITION"
        },
        {
            "cell_type": "markdown",
            "metadata": {},
            "source": "As person who spent her undergrad in Atlanta (shout out to ASC) it was really interesting to watch as the neighborhoods evolved with me. New apartments, townhouses and developments sprouted all over town, and with these came new business. \n\nWhile business is good for the economy in Atlanta, it can also lead to \"gentification\" and a rise in prices in histoically black neigherhoods as they become more \"hip and cool\n\n"
        },
        {
            "cell_type": "code",
            "execution_count": null,
            "metadata": {},
            "outputs": [],
            "source": "Introduction: The Business Problem "
        },
        {
            "cell_type": "code",
            "execution_count": null,
            "metadata": {},
            "outputs": [],
            "source": ""
        }
    ],
    "metadata": {
        "kernelspec": {
            "display_name": "Python 3.7",
            "language": "python",
            "name": "python3"
        },
        "language_info": {
            "codemirror_mode": {
                "name": "ipython",
                "version": 3
            },
            "file_extension": ".py",
            "mimetype": "text/x-python",
            "name": "python",
            "nbconvert_exporter": "python",
            "pygments_lexer": "ipython3",
            "version": "3.7.9"
        }
    },
    "nbformat": 4,
    "nbformat_minor": 1
}